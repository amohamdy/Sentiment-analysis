{
  "nbformat": 4,
  "nbformat_minor": 0,
  "metadata": {
    "colab": {
      "name": "Keras .ipynb",
      "version": "0.3.2",
      "provenance": [],
      "collapsed_sections": [],
      "include_colab_link": true
    },
    "kernelspec": {
      "name": "python3",
      "display_name": "Python 3"
    },
    "accelerator": "GPU"
  },
  "cells": [
    {
      "cell_type": "markdown",
      "metadata": {
        "id": "view-in-github",
        "colab_type": "text"
      },
      "source": [
        "[View in Colaboratory](https://colab.research.google.com/github/amohamdy/Sentiment-analysis/blob/master/Keras_.ipynb)"
      ]
    },
    {
      "metadata": {
        "id": "wL0l0-NsPjMm",
        "colab_type": "code",
        "colab": {
          "base_uri": "https://localhost:8080/",
          "height": 122
        },
        "outputId": "6050a01a-941d-4fd5-94dd-feb6c8a273f5"
      },
      "cell_type": "code",
      "source": [
        "from google.colab import drive\n",
        "drive.mount('/content/drive/')"
      ],
      "execution_count": 1,
      "outputs": [
        {
          "output_type": "stream",
          "text": [
            "Go to this URL in a browser: https://accounts.google.com/o/oauth2/auth?client_id=947318989803-6bn6qk8qdgf4n4g3pfee6491hc0brc4i.apps.googleusercontent.com&redirect_uri=urn%3Aietf%3Awg%3Aoauth%3A2.0%3Aoob&scope=email%20https%3A%2F%2Fwww.googleapis.com%2Fauth%2Fdocs.test%20https%3A%2F%2Fwww.googleapis.com%2Fauth%2Fdrive%20https%3A%2F%2Fwww.googleapis.com%2Fauth%2Fdrive.photos.readonly%20https%3A%2F%2Fwww.googleapis.com%2Fauth%2Fpeopleapi.readonly&response_type=code\n",
            "\n",
            "Enter your authorization code:\n",
            "··········\n",
            "Mounted at /content/drive/\n"
          ],
          "name": "stdout"
        }
      ]
    },
    {
      "metadata": {
        "id": "TE0ZJwsfhTZy",
        "colab_type": "text"
      },
      "cell_type": "markdown",
      "source": [
        "**Make Current Directory**"
      ]
    },
    {
      "metadata": {
        "id": "D9VDHc4NPn-8",
        "colab_type": "code",
        "colab": {}
      },
      "cell_type": "code",
      "source": [
        "import os\n",
        "os.chdir(\"drive/My Drive/sentiment-model/Keras\")"
      ],
      "execution_count": 0,
      "outputs": []
    },
    {
      "metadata": {
        "id": "-vTlA3_8P74i",
        "colab_type": "code",
        "colab": {
          "base_uri": "https://localhost:8080/",
          "height": 34
        },
        "outputId": "c967d1b3-a43f-4b58-8ac0-f011a78899ab"
      },
      "cell_type": "code",
      "source": [
        "!ls"
      ],
      "execution_count": 3,
      "outputs": [
        {
          "output_type": "stream",
          "text": [
            "Keras .ipynb  tweets-pos-neg.csv\n"
          ],
          "name": "stdout"
        }
      ]
    },
    {
      "metadata": {
        "id": "Z9qu_6RkfMsS",
        "colab_type": "text"
      },
      "cell_type": "markdown",
      "source": [
        "**Download and unzip ngrok**"
      ]
    },
    {
      "metadata": {
        "id": "gVkK9ODWhgq7",
        "colab_type": "code",
        "colab": {
          "base_uri": "https://localhost:8080/",
          "height": 85
        },
        "outputId": "2d97b04f-512f-4e3b-fb34-bf51b830e38c"
      },
      "cell_type": "code",
      "source": [
        "!wget https://bin.equinox.io/c/4VmDzA7iaHb/ngrok-stable-linux-amd64.zip\n",
        "!unzip ngrok-stable-linux-amd64.zip"
      ],
      "execution_count": 4,
      "outputs": [
        {
          "output_type": "stream",
          "text": [
            "\n",
            "Redirecting output to ‘wget-log’.\n",
            "Archive:  ngrok-stable-linux-amd64.zip\n",
            "  inflating: ngrok                   \n"
          ],
          "name": "stdout"
        }
      ]
    },
    {
      "metadata": {
        "id": "6L7UXJXoiNcB",
        "colab_type": "text"
      },
      "cell_type": "markdown",
      "source": [
        "**Run Tensor Board**"
      ]
    },
    {
      "metadata": {
        "id": "GnD7oFmGiMTD",
        "colab_type": "code",
        "colab": {}
      },
      "cell_type": "code",
      "source": [
        "LOG_DIR = './log'\n",
        "get_ipython().system_raw(\n",
        "    'tensorboard --logdir {} --host 0.0.0.0 --port 6006 &'\n",
        "    .format(LOG_DIR)\n",
        ")"
      ],
      "execution_count": 0,
      "outputs": []
    },
    {
      "metadata": {
        "id": "gsOBNhsaiTTw",
        "colab_type": "text"
      },
      "cell_type": "markdown",
      "source": [
        "**Run ngrok**"
      ]
    },
    {
      "metadata": {
        "id": "p6ZIEPJNiXdn",
        "colab_type": "code",
        "colab": {}
      },
      "cell_type": "code",
      "source": [
        "get_ipython().system_raw('./ngrok http 6006 &')"
      ],
      "execution_count": 0,
      "outputs": []
    },
    {
      "metadata": {
        "id": "jBl5B-m2iayj",
        "colab_type": "text"
      },
      "cell_type": "markdown",
      "source": [
        "**Get URL**\n",
        "Run the next cell to start the training before open the url."
      ]
    },
    {
      "metadata": {
        "id": "_R9yPASFih85",
        "colab_type": "code",
        "colab": {
          "base_uri": "https://localhost:8080/",
          "height": 34
        },
        "outputId": "57fca5be-6b8e-42f0-cd97-10fa4f5e68ce"
      },
      "cell_type": "code",
      "source": [
        "! curl -s http://localhost:4040/api/tunnels | python3 -c \\\n",
        "    \"import sys, json; print(json.load(sys.stdin)['tunnels'][0]['public_url'])\""
      ],
      "execution_count": 7,
      "outputs": [
        {
          "output_type": "stream",
          "text": [
            "https://87d7761a.ngrok.io\n"
          ],
          "name": "stdout"
        }
      ]
    },
    {
      "metadata": {
        "id": "wcz9o47PjTXt",
        "colab_type": "code",
        "colab": {
          "base_uri": "https://localhost:8080/",
          "height": 34
        },
        "outputId": "aef51b25-f991-4143-b5bb-fc856f2c169a"
      },
      "cell_type": "code",
      "source": [
        "import os   # iterate throw DIRECTORIES \n",
        "import numpy as np\n",
        "import pandas as pd\n",
        "import tensorflow as tf\n",
        "from nltk.tokenize import word_tokenize\n",
        "from sklearn.utils import shuffle\n",
        "from sklearn.model_selection import train_test_split\n",
        "from sklearn.metrics import confusion_matrix, classification_report\n",
        "from sklearn.preprocessing import  LabelEncoder\n",
        "from keras.preprocessing.sequence import pad_sequences\n",
        "from keras.preprocessing.text import Tokenizer\n",
        "from keras.utils import to_categorical\n",
        "from keras.models import Sequential\n",
        "from keras.layers.embeddings import Embedding\n",
        "from keras.layers import Flatten\n",
        "from keras.layers import Conv1D, MaxPooling1D\n",
        "from keras.layers import Dense,Activation\n",
        "from keras.layers import Dropout\n",
        "from keras.callbacks import TensorBoard, ModelCheckpoint\n",
        "#from tensorboardcolab import TensorBoardColab, TensorBoardColabCallback\n",
        "#import keras.utils\n",
        "#from keras import utils as np_utils\n",
        "from sklearn.metrics import accuracy_score\n",
        "import matplotlib.pyplot as plt\n",
        "import re\n",
        "import string\n",
        "import collections\n",
        "import time\n",
        "import pickle\n",
        "seed = 7\n",
        "np.random.seed(seed)\n",
        "from sklearn.utils.multiclass import type_of_target"
      ],
      "execution_count": 8,
      "outputs": [
        {
          "output_type": "stream",
          "text": [
            "Using TensorFlow backend.\n"
          ],
          "name": "stderr"
        }
      ]
    },
    {
      "metadata": {
        "id": "gDGI8sjxhoXp",
        "colab_type": "text"
      },
      "cell_type": "markdown",
      "source": [
        "**Load CSV File**"
      ]
    },
    {
      "metadata": {
        "id": "UKzQiFm4QPhY",
        "colab_type": "code",
        "colab": {}
      },
      "cell_type": "code",
      "source": [
        "#Read CSV Files \n",
        "df=pd.read_csv('tweets-pos-neg.csv', usecols = ['text','airline_sentiment'])\n",
        "df = df.reindex(['text','airline_sentiment'], axis=1) #reorder columns\n",
        "df=df.apply(lambda x: x.astype(str).str.lower()) #convert data to lower case"
      ],
      "execution_count": 0,
      "outputs": []
    },
    {
      "metadata": {
        "id": "fIdcHDrBng5p",
        "colab_type": "text"
      },
      "cell_type": "markdown",
      "source": [
        "**Normalization Process**"
      ]
    },
    {
      "metadata": {
        "id": "u9m69Fq0QUv-",
        "colab_type": "code",
        "colab": {}
      },
      "cell_type": "code",
      "source": [
        "def normalize(text):\n",
        "    text= re.sub(r\"http\\S+\", r'', text) #replaces links with \"URL\" or space\n",
        "    text= re.sub(r\"@\\S+\", r'', text) #replaces @Mention with \"mention\" or space\n",
        "    punctuation = re.compile(r'[!\"#$%&()*+,-./:;<=>?@[\\]^_`{|}~|0-9]')\n",
        "    text = re.sub(punctuation, ' ', text)\n",
        "    text= re.sub(r'(.)\\1\\1+', r'\\1', text)  #solve el.ongation problem ex loooool=>lol, lool=>lool  \n",
        "    return text"
      ],
      "execution_count": 0,
      "outputs": []
    },
    {
      "metadata": {
        "id": "qD2rWECOQmMf",
        "colab_type": "code",
        "colab": {}
      },
      "cell_type": "code",
      "source": [
        "def prepareDataSets(df):\n",
        "    sentences=[]\n",
        "    for index, r in df.iterrows():\n",
        "        text= normalize(r['text'])\n",
        "#         if r['airline_sentiment']=='positive':\n",
        "#             sentences.append([text,1])\n",
        "#         else:\n",
        "#             sentences.append([text,0])\n",
        "#         #text= stopWordRemove(text)\n",
        "        sentences.append([text,r['airline_sentiment']])\n",
        "        df_sentences=pd.DataFrame(sentences,columns=['text','airline_sentiment'])\n",
        "    return df_sentences"
      ],
      "execution_count": 0,
      "outputs": []
    },
    {
      "metadata": {
        "id": "4nfpS1GoQpJF",
        "colab_type": "code",
        "colab": {
          "base_uri": "https://localhost:8080/",
          "height": 392
        },
        "outputId": "fadd724f-4444-47c1-9d05-fc24aa8a5356"
      },
      "cell_type": "code",
      "source": [
        "edit_df=prepareDataSets(df)\n",
        "edit_df=shuffle(edit_df)\n",
        "target=pd.value_counts(edit_df['airline_sentiment'].values)\n",
        "target.plot.bar()"
      ],
      "execution_count": 12,
      "outputs": [
        {
          "output_type": "execute_result",
          "data": {
            "text/plain": [
              "<matplotlib.axes._subplots.AxesSubplot at 0x7f44dc4cecf8>"
            ]
          },
          "metadata": {
            "tags": []
          },
          "execution_count": 12
        },
        {
          "output_type": "display_data",
          "data": {
            "image/png": "[encoded data removed]",
            "text/plain": [
              "<matplotlib.figure.Figure at 0x7f454ba00ba8>"
            ]
          },
          "metadata": {
            "tags": []
          }
        }
      ]
    },
    {
      "metadata": {
        "id": "LXRRotTiQsYm",
        "colab_type": "code",
        "colab": {}
      },
      "cell_type": "code",
      "source": [
        "X=edit_df.iloc[:,0]\n",
        "Y=edit_df.iloc[:,1]"
      ],
      "execution_count": 0,
      "outputs": []
    },
    {
      "metadata": {
        "id": "Y9dbOXcvnmoE",
        "colab_type": "text"
      },
      "cell_type": "markdown",
      "source": [
        "** Convert reviews to Tokens then Tokens to Integers**"
      ]
    },
    {
      "metadata": {
        "id": "8SiXFVhhQw0f",
        "colab_type": "code",
        "colab": {}
      },
      "cell_type": "code",
      "source": [
        "\n",
        "max_features = 50000\n",
        "tokenizer = Tokenizer(num_words=max_features, split=' ')\n",
        "tokenizer.fit_on_texts(X.values)\n",
        "#convert review tokens to integers\n",
        "X_seq = tokenizer.texts_to_sequences(X)"
      ],
      "execution_count": 0,
      "outputs": []
    },
    {
      "metadata": {
        "id": "Prl6OWZOQ5hy",
        "colab_type": "code",
        "colab": {
          "base_uri": "https://localhost:8080/",
          "height": 68
        },
        "outputId": "4a0184a4-ed5f-4cac-b4c5-520d772b5631"
      },
      "cell_type": "code",
      "source": [
        "print('Fitted tokenizer on {} documents'.format(tokenizer.document_count))\n",
        "print('{} words in dictionary'.format(tokenizer.num_words))\n",
        "print('Top 5 most common words are:', collections.Counter(tokenizer.word_counts).most_common(5))"
      ],
      "execution_count": 15,
      "outputs": [
        {
          "output_type": "stream",
          "text": [
            "Fitted tokenizer on 11541 documents\n",
            "50000 words in dictionary\n",
            "Top 5 most common words are: [('to', 6988), ('the', 5085), ('i', 4235), ('a', 3763), ('you', 3403)]\n"
          ],
          "name": "stdout"
        }
      ]
    },
    {
      "metadata": {
        "id": "1c4OqkBgcX12",
        "colab_type": "text"
      },
      "cell_type": "markdown",
      "source": [
        "**Get The Length of each Review then get MAX **"
      ]
    },
    {
      "metadata": {
        "id": "phI3mjHGcV9W",
        "colab_type": "code",
        "colab": {}
      },
      "cell_type": "code",
      "source": [
        "def countWords(review):\n",
        "    counts=[]\n",
        "    for review in X:\n",
        "        review_legnth=len(review.split())\n",
        "        counts.append(review_legnth)\n",
        "    return counts"
      ],
      "execution_count": 0,
      "outputs": []
    },
    {
      "metadata": {
        "id": "vHNyU_zAclhc",
        "colab_type": "code",
        "colab": {
          "base_uri": "https://localhost:8080/",
          "height": 34
        },
        "outputId": "6ce15f7a-645b-4402-eab0-bb70f10590d4"
      },
      "cell_type": "code",
      "source": [
        "counts=countWords(X)\n",
        "max(counts)"
      ],
      "execution_count": 17,
      "outputs": [
        {
          "output_type": "execute_result",
          "data": {
            "text/plain": [
              "32"
            ]
          },
          "metadata": {
            "tags": []
          },
          "execution_count": 17
        }
      ]
    },
    {
      "metadata": {
        "id": "_OS4PbxgQ9kA",
        "colab_type": "code",
        "colab": {}
      },
      "cell_type": "code",
      "source": [
        "# Equal Length of Sequence Padding Sequence according to MAX length of reviews\n",
        "seq_len=35\n",
        "X_pad = pad_sequences(X_seq,maxlen=seq_len)"
      ],
      "execution_count": 0,
      "outputs": []
    },
    {
      "metadata": {
        "id": "06ztBaXbRAv5",
        "colab_type": "code",
        "colab": {}
      },
      "cell_type": "code",
      "source": [
        "# Encoding Target Value\n",
        "# convert target value from string to integer\n",
        "le=LabelEncoder()\n",
        "Y_le=le.fit_transform(Y)\n",
        "Y_le_oh=to_categorical(Y_le)\n",
        "#np.argmax(to_categorical(Y_le))"
      ],
      "execution_count": 0,
      "outputs": []
    },
    {
      "metadata": {
        "id": "PWGs91UPRQex",
        "colab_type": "code",
        "colab": {
          "base_uri": "https://localhost:8080/",
          "height": 136
        },
        "outputId": "8df98a30-e2b8-4ff7-bfa4-34cebcd70904"
      },
      "cell_type": "code",
      "source": [
        "Y_le_oh"
      ],
      "execution_count": 20,
      "outputs": [
        {
          "output_type": "execute_result",
          "data": {
            "text/plain": [
              "array([[1., 0.],\n",
              "       [1., 0.],\n",
              "       [1., 0.],\n",
              "       ...,\n",
              "       [1., 0.],\n",
              "       [1., 0.],\n",
              "       [1., 0.]], dtype=float32)"
            ]
          },
          "metadata": {
            "tags": []
          },
          "execution_count": 20
        }
      ]
    },
    {
      "metadata": {
        "id": "9JvaKXkJkVar",
        "colab_type": "text"
      },
      "cell_type": "markdown",
      "source": [
        "**Train, Test split**"
      ]
    },
    {
      "metadata": {
        "id": "hctvEHs6RXsA",
        "colab_type": "code",
        "colab": {
          "base_uri": "https://localhost:8080/",
          "height": 85
        },
        "outputId": "a7870d1e-bc30-47c2-ef7f-5d04c343d830"
      },
      "cell_type": "code",
      "source": [
        "X_train, X_test, Y_train, Y_test = train_test_split(X_pad,Y_le_oh, test_size = 0.33, random_state = 42)\n",
        "X_train, X_Val, Y_train, Y_Val = train_test_split(X_train,Y_train, test_size = 0.1, random_state = 42)\n",
        "print(X_train.shape,Y_train.shape)\n",
        "print(X_test.shape,Y_test.shape)\n",
        "print(X_Val.shape,Y_Val.shape)\n",
        "type(Y_test)"
      ],
      "execution_count": 21,
      "outputs": [
        {
          "output_type": "stream",
          "text": [
            "(6958, 35) (6958, 2)\n",
            "(3809, 35) (3809, 2)\n",
            "(774, 35) (774, 2)\n"
          ],
          "name": "stdout"
        },
        {
          "output_type": "execute_result",
          "data": {
            "text/plain": [
              "numpy.ndarray"
            ]
          },
          "metadata": {
            "tags": []
          },
          "execution_count": 21
        }
      ]
    },
    {
      "metadata": {
        "id": "cI1w4WeWjkLZ",
        "colab_type": "text"
      },
      "cell_type": "markdown",
      "source": [
        "**Build CNN Model**"
      ]
    },
    {
      "metadata": {
        "id": "hoVp-ypRRibl",
        "colab_type": "code",
        "colab": {
          "base_uri": "https://localhost:8080/",
          "height": 357
        },
        "outputId": "0d6c187e-54ac-4163-fd88-6ea4cb8d8005"
      },
      "cell_type": "code",
      "source": [
        "# Create the model\n",
        "output_dim = 32    #no of vector columns\n",
        "model_cnn = Sequential()\n",
        "model_cnn.add(Embedding(max_features, output_dim, input_length=seq_len))\n",
        "model_cnn.add(Conv1D(filters=100, kernel_size=2, padding='valid', activation='relu', strides=1))\n",
        "model_cnn.add(MaxPooling1D(2))\n",
        "model_cnn.add(Flatten())\n",
        "model_cnn.add(Dense(256, activation='relu'))\n",
        "model_cnn.add(Dense(2, activation='softmax'))\n",
        "model_cnn.compile(loss='binary_crossentropy', optimizer='Adam', metrics=['accuracy'])\n",
        "print(model_cnn.summary())"
      ],
      "execution_count": 22,
      "outputs": [
        {
          "output_type": "stream",
          "text": [
            "_________________________________________________________________\n",
            "Layer (type)                 Output Shape              Param #   \n",
            "=================================================================\n",
            "embedding_1 (Embedding)      (None, 35, 32)            1600000   \n",
            "_________________________________________________________________\n",
            "conv1d_1 (Conv1D)            (None, 34, 100)           6500      \n",
            "_________________________________________________________________\n",
            "max_pooling1d_1 (MaxPooling1 (None, 17, 100)           0         \n",
            "_________________________________________________________________\n",
            "flatten_1 (Flatten)          (None, 1700)              0         \n",
            "_________________________________________________________________\n",
            "dense_1 (Dense)              (None, 256)               435456    \n",
            "_________________________________________________________________\n",
            "dense_2 (Dense)              (None, 2)                 514       \n",
            "=================================================================\n",
            "Total params: 2,042,470\n",
            "Trainable params: 2,042,470\n",
            "Non-trainable params: 0\n",
            "_________________________________________________________________\n",
            "None\n"
          ],
          "name": "stdout"
        }
      ]
    },
    {
      "metadata": {
        "id": "Z3Vnj7dbjBy0",
        "colab_type": "code",
        "colab": {}
      },
      "cell_type": "code",
      "source": [
        "Name=\"Sentimnt-Analysis-{}\".format(int(time.time()))\n",
        "tensorboard = TensorBoard(log_dir='./log/{}'.format(Name))"
      ],
      "execution_count": 0,
      "outputs": []
    },
    {
      "metadata": {
        "id": "VP6EBMIZRnzY",
        "colab_type": "code",
        "colab": {
          "base_uri": "https://localhost:8080/",
          "height": 153
        },
        "outputId": "a2f8aa09-d2f1-49e6-e4d2-3d817a030fab"
      },
      "cell_type": "code",
      "source": [
        "batch_size=32\n",
        "history=model_cnn.fit(X_train, Y_train, epochs=3, batch_size=batch_size, callbacks=[tensorboard], validation_data=(X_Val, Y_Val))\n",
        "scores = model_cnn.evaluate(X_test, Y_test, verbose=0)\n",
        "print(\"Accuracy: %.2f%%\" % (scores[-1]*100))"
      ],
      "execution_count": 24,
      "outputs": [
        {
          "output_type": "stream",
          "text": [
            "Train on 6958 samples, validate on 774 samples\n",
            "Epoch 1/3\n",
            "6958/6958 [==============================] - 3s 495us/step - loss: 0.3462 - acc: 0.8505 - val_loss: 0.2393 - val_acc: 0.9031\n",
            "Epoch 2/3\n",
            "6958/6958 [==============================] - 2s 313us/step - loss: 0.1271 - acc: 0.9524 - val_loss: 0.2567 - val_acc: 0.9057\n",
            "Epoch 3/3\n",
            "6958/6958 [==============================] - 2s 320us/step - loss: 0.0452 - acc: 0.9855 - val_loss: 0.3079 - val_acc: 0.9109\n",
            "Accuracy: 91.60%\n"
          ],
          "name": "stdout"
        }
      ]
    },
    {
      "metadata": {
        "id": "PKYuK2e9aPWP",
        "colab_type": "text"
      },
      "cell_type": "markdown",
      "source": [
        "**Evaluate Model**"
      ]
    },
    {
      "metadata": {
        "id": "ghLtZ76wzG4H",
        "colab_type": "code",
        "colab": {}
      },
      "cell_type": "code",
      "source": [
        "def cnn_evaluate(): \n",
        "    # predict class with test set\n",
        "    Y_predict =  model_cnn.predict_classes(X_test, batch_size=batch_size, verbose=0)\n",
        "    print('Accuracy:\\t{:0.1f}%'.format(accuracy_score(np.argmax(Y_test,axis=1),Y_predict)*100))\n",
        "    \n",
        "    #classification report\n",
        "    print('\\n')\n",
        "    print(classification_report(np.argmax(Y_test,axis=1), Y_predict))\n",
        "    #confusion matrix\n",
        "    confmat = confusion_matrix(np.argmax(Y_test,axis=1), Y_predict)\n",
        "\n",
        "    fig, ax = plt.subplots(figsize=(4, 4))\n",
        "    ax.matshow(confmat, cmap=plt.cm.Blues, alpha=0.3)\n",
        "    for i in range(confmat.shape[0]):\n",
        "        for j in range(confmat.shape[1]):\n",
        "            ax.text(x=j, y=i, s=confmat[i, j], va='center', ha='center')\n",
        "    plt.xlabel('Predicted label')\n",
        "    plt.ylabel('True label')\n",
        "    plt.tight_layout()"
      ],
      "execution_count": 0,
      "outputs": []
    },
    {
      "metadata": {
        "id": "3096-0b_bZlZ",
        "colab_type": "code",
        "colab": {
          "base_uri": "https://localhost:8080/",
          "height": 463
        },
        "outputId": "6f51e484-7ab1-444b-b880-0ee9a0f50e64"
      },
      "cell_type": "code",
      "source": [
        "cnn_evaluate()"
      ],
      "execution_count": 26,
      "outputs": [
        {
          "output_type": "stream",
          "text": [
            "Accuracy:\t91.6%\n",
            "\n",
            "\n",
            "             precision    recall  f1-score   support\n",
            "\n",
            "          0       0.94      0.96      0.95      3057\n",
            "          1       0.81      0.75      0.78       752\n",
            "\n",
            "avg / total       0.91      0.92      0.91      3809\n",
            "\n"
          ],
          "name": "stdout"
        },
        {
          "output_type": "display_data",
          "data": {
            "image/png": "[encoded data removed]",
            "text/plain": [
              "<matplotlib.figure.Figure at 0x7f44d89f3a90>"
            ]
          },
          "metadata": {
            "tags": []
          }
        }
      ]
    },
    {
      "metadata": {
        "id": "zVg6Iifmbv8-",
        "colab_type": "code",
        "colab": {}
      },
      "cell_type": "code",
      "source": [
        "Y_predict =  model_cnn.predict_classes(X_test, batch_size=batch_size, verbose=0)\n",
        "\n",
        "#print(type_of_target(Y_test), type_of_target(Y_predict))"
      ],
      "execution_count": 0,
      "outputs": []
    },
    {
      "metadata": {
        "id": "df1OYVb4UN5P",
        "colab_type": "code",
        "colab": {}
      },
      "cell_type": "code",
      "source": [
        "model_cnn.save('Keras-Model.h5')"
      ],
      "execution_count": 0,
      "outputs": []
    },
    {
      "metadata": {
        "id": "3SbLPMlnjQlQ",
        "colab_type": "text"
      },
      "cell_type": "markdown",
      "source": [
        "**Save X  in pickle to load automaticaly **"
      ]
    },
    {
      "metadata": {
        "id": "YXIT43Mxd5Yg",
        "colab_type": "code",
        "colab": {}
      },
      "cell_type": "code",
      "source": [
        "pickle_out=open(\"X.pickle\",\"wb\")\n",
        "pickle.dump(X_pad,pickle_out)\n",
        "pickle_out.close()"
      ],
      "execution_count": 0,
      "outputs": []
    },
    {
      "metadata": {
        "id": "dJdE3pqbjbV4",
        "colab_type": "text"
      },
      "cell_type": "markdown",
      "source": [
        "**Save Y  in pickle to load automaticaly **"
      ]
    },
    {
      "metadata": {
        "id": "pro7jESyf-YI",
        "colab_type": "code",
        "colab": {}
      },
      "cell_type": "code",
      "source": [
        "pickle_out=open(\"Y.pickle\",\"wb\")\n",
        "pickle.dump(Y_le_oh,pickle_out)\n",
        "pickle_out.close()"
      ],
      "execution_count": 0,
      "outputs": []
    },
    {
      "metadata": {
        "id": "dJfwnArKkoyE",
        "colab_type": "text"
      },
      "cell_type": "markdown",
      "source": [
        "**Load X**"
      ]
    },
    {
      "metadata": {
        "id": "I44rOISeg4Nc",
        "colab_type": "code",
        "colab": {}
      },
      "cell_type": "code",
      "source": [
        "pickle_in=open(\"X.pickle\",\"rb\")\n",
        "X_pad=pickle.load(pickle_in)"
      ],
      "execution_count": 0,
      "outputs": []
    },
    {
      "metadata": {
        "id": "IGha6HybktH3",
        "colab_type": "text"
      },
      "cell_type": "markdown",
      "source": [
        "**Load Y**"
      ]
    },
    {
      "metadata": {
        "id": "_C9eGPqPhRWd",
        "colab_type": "code",
        "colab": {}
      },
      "cell_type": "code",
      "source": [
        "pickle_in=open(\"Y.pickle\",\"rb\")\n",
        "Y_le_oh=pickle.load(pickle_in)"
      ],
      "execution_count": 0,
      "outputs": []
    }
  ]
}